{
 "cells": [
  {
   "cell_type": "markdown",
   "id": "8c16cc8a-55a1-4c10-b6c4-5ce62db0fdca",
   "metadata": {},
   "source": [
    "#1"
   ]
  },
  {
   "cell_type": "code",
   "execution_count": 2,
   "id": "5765d3a9-d247-44b0-a8f9-692e968971ac",
   "metadata": {},
   "outputs": [
    {
     "name": "stdout",
     "output_type": "stream",
     "text": [
      "brady is an econ major\n"
     ]
    }
   ],
   "source": [
    "person = \"brady\"\n",
    "\n",
    "description = \" is an econ major\"\n",
    "print(person + description)"
   ]
  },
  {
   "cell_type": "markdown",
   "id": "ddd08c57-d53f-484f-b97d-dc9c221dc442",
   "metadata": {},
   "source": [
    "#2"
   ]
  },
  {
   "cell_type": "code",
   "execution_count": 5,
   "id": "582c1fec-c6ce-43d4-9f67-fe10a86ab161",
   "metadata": {},
   "outputs": [
    {
     "name": "stdout",
     "output_type": "stream",
     "text": [
      "16\n"
     ]
    }
   ],
   "source": [
    "twoToTheFourth = 2 ** 4\n",
    "print(twoToTheFourth)"
   ]
  },
  {
   "cell_type": "markdown",
   "id": "efd3fed7-653c-48cf-8905-87368efc2c24",
   "metadata": {},
   "source": [
    "#3"
   ]
  },
  {
   "cell_type": "code",
   "execution_count": null,
   "id": "e7723aa2-042e-4eb2-a521-a762c91f50b9",
   "metadata": {},
   "outputs": [],
   "source": []
  },
  {
   "cell_type": "markdown",
   "id": "22bd6238-689e-4513-9ff3-d1594107892c",
   "metadata": {},
   "source": [
    "#4"
   ]
  },
  {
   "cell_type": "code",
   "execution_count": 7,
   "id": "2a807fca-b3ac-40fb-98c9-f9270b77bf21",
   "metadata": {},
   "outputs": [
    {
     "name": "stdout",
     "output_type": "stream",
     "text": [
      "2.5\n"
     ]
    }
   ],
   "source": [
    "float1 = 1.5\n",
    "int1 = 1\n",
    "print(int1 + float1)\n",
    "#answer is a float"
   ]
  },
  {
   "cell_type": "markdown",
   "id": "2964d2d9-219d-476c-a68c-a43e535eef2d",
   "metadata": {},
   "source": [
    "#5"
   ]
  },
  {
   "cell_type": "code",
   "execution_count": 8,
   "id": "155d02d4-322b-4bfa-9149-cc4d9bd7cade",
   "metadata": {},
   "outputs": [
    {
     "ename": "OverflowError",
     "evalue": "int too large to convert to float",
     "output_type": "error",
     "traceback": [
      "\u001b[0;31m---------------------------------------------------------------------------\u001b[0m",
      "\u001b[0;31mOverflowError\u001b[0m                             Traceback (most recent call last)",
      "\u001b[0;32m/var/folders/36/1ps_njqs0_vg85qkr7w_tj440000gn/T/ipykernel_39952/1671709379.py\u001b[0m in \u001b[0;36m<module>\u001b[0;34m\u001b[0m\n\u001b[0;32m----> 1\u001b[0;31m \u001b[0mnumber\u001b[0m \u001b[0;34m=\u001b[0m \u001b[0;36m2\u001b[0m \u001b[0;34m**\u001b[0m \u001b[0;36m1024\u001b[0m \u001b[0;34m+\u001b[0m \u001b[0;36m1.5\u001b[0m\u001b[0;34m\u001b[0m\u001b[0;34m\u001b[0m\u001b[0m\n\u001b[0m\u001b[1;32m      2\u001b[0m \u001b[0mprint\u001b[0m\u001b[0;34m(\u001b[0m\u001b[0mnumber\u001b[0m\u001b[0;34m)\u001b[0m\u001b[0;34m\u001b[0m\u001b[0;34m\u001b[0m\u001b[0m\n",
      "\u001b[0;31mOverflowError\u001b[0m: int too large to convert to float"
     ]
    }
   ],
   "source": [
    "number = 2 ** 1024 + 1.5\n",
    "print(number)"
   ]
  },
  {
   "cell_type": "code",
   "execution_count": 15,
   "id": "361ca29f-4ca9-4351-b5f7-399943667f48",
   "metadata": {},
   "outputs": [
    {
     "name": "stdout",
     "output_type": "stream",
     "text": [
      "179769313486231590772930519078902473361797697894230657273430081157732675805500963132708477322407536021120113879871393357658789768814416622492847430639474124377767893424865485276302219601246094119453082952085005768838150682342462881473913110540827237163350510684586298239947245938479716304835356329624224137217\n"
     ]
    }
   ],
   "source": [
    "number1 = 2 ** 1024 + 1\n",
    "print(number1)"
   ]
  },
  {
   "cell_type": "code",
   "execution_count": null,
   "id": "da089ea5-417f-44e3-87cc-8912082fc8d9",
   "metadata": {},
   "outputs": [],
   "source": [
    "#The test fails because the number is too large to convert from an int to a float."
   ]
  },
  {
   "cell_type": "markdown",
   "id": "9aa3ee9f-4bcc-429e-8f9e-a54c8d07aa1a",
   "metadata": {},
   "source": [
    "#6"
   ]
  },
  {
   "cell_type": "code",
   "execution_count": null,
   "id": "ff69dfb5-7151-4ca0-9278-d47efe75c016",
   "metadata": {},
   "outputs": [],
   "source": []
  }
 ],
 "metadata": {
  "kernelspec": {
   "display_name": "Python 3 (ipykernel)",
   "language": "python",
   "name": "python3"
  },
  "language_info": {
   "codemirror_mode": {
    "name": "ipython",
    "version": 3
   },
   "file_extension": ".py",
   "mimetype": "text/x-python",
   "name": "python",
   "nbconvert_exporter": "python",
   "pygments_lexer": "ipython3",
   "version": "3.9.13"
  }
 },
 "nbformat": 4,
 "nbformat_minor": 5
}
