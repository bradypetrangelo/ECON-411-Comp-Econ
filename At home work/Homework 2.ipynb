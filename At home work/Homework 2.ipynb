{
 "cells": [
  {
   "cell_type": "markdown",
   "id": "8e4f0d31-a3c7-42c2-97de-2d92494e09c3",
   "metadata": {},
   "source": [
    "#1"
   ]
  },
  {
   "cell_type": "code",
   "execution_count": null,
   "id": "bacb44ab-0f95-431a-a1a9-81723a08b3bb",
   "metadata": {},
   "outputs": [],
   "source": []
  },
  {
   "cell_type": "markdown",
   "id": "9cc9ef25-9615-4f2d-aa42-b2b41060300a",
   "metadata": {},
   "source": [
    "#2"
   ]
  },
  {
   "cell_type": "markdown",
   "id": "6b29ddc4-09e5-4af5-8e29-5b5b32f11a9b",
   "metadata": {},
   "source": [
    "#3"
   ]
  },
  {
   "cell_type": "markdown",
   "id": "c4cdbec6-2b54-4ba4-85f0-f2e6d84325e9",
   "metadata": {},
   "source": [
    "#4"
   ]
  },
  {
   "cell_type": "markdown",
   "id": "72d70d00-5a86-439c-97b2-469788c836e5",
   "metadata": {},
   "source": [
    "#5"
   ]
  },
  {
   "cell_type": "markdown",
   "id": "04ff94c6-6219-4ab9-932f-61e4aabeb5c5",
   "metadata": {},
   "source": [
    "#6"
   ]
  },
  {
   "cell_type": "markdown",
   "id": "fdd5f347-8315-44d2-8174-1746864f6a62",
   "metadata": {},
   "source": [
    "#7"
   ]
  },
  {
   "cell_type": "markdown",
   "id": "dbfc8347-9a26-454e-9488-fe0cda6001f7",
   "metadata": {},
   "source": [
    "#8"
   ]
  },
  {
   "cell_type": "code",
   "execution_count": null,
   "id": "93a9ea92-ac4e-4af0-9142-aa7237d9827d",
   "metadata": {},
   "outputs": [],
   "source": []
  },
  {
   "cell_type": "code",
   "execution_count": null,
   "id": "04af0e82-3032-4b1b-ada2-2ee55af695cb",
   "metadata": {},
   "outputs": [],
   "source": []
  }
 ],
 "metadata": {
  "kernelspec": {
   "display_name": "Python 3 (ipykernel)",
   "language": "python",
   "name": "python3"
  },
  "language_info": {
   "codemirror_mode": {
    "name": "ipython",
    "version": 3
   },
   "file_extension": ".py",
   "mimetype": "text/x-python",
   "name": "python",
   "nbconvert_exporter": "python",
   "pygments_lexer": "ipython3",
   "version": "3.9.13"
  }
 },
 "nbformat": 4,
 "nbformat_minor": 5
}
