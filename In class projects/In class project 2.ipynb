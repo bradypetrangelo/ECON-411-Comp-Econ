{
 "cells": [
  {
   "cell_type": "markdown",
   "id": "ead07aec-94ab-4492-8f49-cbad929b848b",
   "metadata": {
    "tags": []
   },
   "source": [
    "# Project 2 - Working with lists"
   ]
  },
  {
   "cell_type": "code",
   "execution_count": 3,
   "id": "21682036-4072-4fca-bd33-a8703a0f67e0",
   "metadata": {},
   "outputs": [],
   "source": [
    "empty_list = []"
   ]
  },
  {
   "cell_type": "code",
   "execution_count": 5,
   "id": "c6a3e7ca-1718-491e-aa0e-85371c907f1c",
   "metadata": {},
   "outputs": [
    {
     "data": {
      "text/plain": [
       "([1, 2, 3, 4], list)"
      ]
     },
     "execution_count": 5,
     "metadata": {},
     "output_type": "execute_result"
    }
   ],
   "source": [
    "int_list = [1,2,3,4]\n",
    "int_list, type(int_list)"
   ]
  },
  {
   "cell_type": "code",
   "execution_count": null,
   "id": "327a4456-c13e-4632-b2a8-e0a9c6554af3",
   "metadata": {},
   "outputs": [],
   "source": [
    "float_list = [1, 2.0, \"Mix It Up\"]\n",
    "mixed_list, type(mixed_list)"
   ]
  },
  {
   "cell_type": "code",
   "execution_count": null,
   "id": "bffad2bb-210e-44f2-a440-832d23ddf432",
   "metadata": {},
   "outputs": [],
   "source": [
    "string_list = [1, 2.0, \"Mix It Up\"]\n",
    "mixed_list, type(mixed_list)"
   ]
  },
  {
   "cell_type": "code",
   "execution_count": 4,
   "id": "e093e4c7-08b8-4d06-bbd2-fe8636b23151",
   "metadata": {},
   "outputs": [
    {
     "data": {
      "text/plain": [
       "([1, 2.0, 'Mix It Up'], list)"
      ]
     },
     "execution_count": 4,
     "metadata": {},
     "output_type": "execute_result"
    }
   ],
   "source": [
    "mixed_list = [1, 2.0, \"Mix It Up\"]\n",
    "mixed_list, type(mixed_list)"
   ]
  },
  {
   "cell_type": "markdown",
   "id": "9259926d-7eb7-4406-a8ba-453a23f44392",
   "metadata": {},
   "source": [
    "Concatenation Lists"
   ]
  },
  {
   "cell_type": "code",
   "execution_count": 6,
   "id": "6168e636-7d87-40b0-a849-fe8a836902d0",
   "metadata": {},
   "outputs": [
    {
     "data": {
      "text/plain": [
       "[1, 2]"
      ]
     },
     "execution_count": 6,
     "metadata": {},
     "output_type": "execute_result"
    }
   ],
   "source": [
    "[1] + [2]"
   ]
  },
  {
   "cell_type": "code",
   "execution_count": 7,
   "id": "63759e61-fa15-401f-8d49-f4e8fc85234f",
   "metadata": {},
   "outputs": [
    {
     "data": {
      "text/plain": [
       "[1, 2]"
      ]
     },
     "execution_count": 7,
     "metadata": {},
     "output_type": "execute_result"
    }
   ],
   "source": [
    "list1 = [1]\n",
    "list2 = [2]\n",
    "join_lists = list1 + list2\n",
    "join_lists"
   ]
  },
  {
   "cell_type": "markdown",
   "id": "9118e7d4-dfb1-43ab-aadb-25e81a505dd4",
   "metadata": {},
   "source": [
    "#similar to concatenating strings"
   ]
  },
  {
   "cell_type": "code",
   "execution_count": 8,
   "id": "88cea8b3-e578-4a58-9829-5bcbecd1fb82",
   "metadata": {},
   "outputs": [
    {
     "data": {
      "text/plain": [
       "'12'"
      ]
     },
     "execution_count": 8,
     "metadata": {},
     "output_type": "execute_result"
    }
   ],
   "source": [
    "str1 = \"1\"\n",
    "str2 = \"2\"\n",
    "join_strs = str1 + str2\n",
    "join_strs"
   ]
  },
  {
   "cell_type": "markdown",
   "id": "05e23288-893e-4dab-a947-7e0d6a7004cc",
   "metadata": {},
   "source": [
    "# for loop using i  in range will cycle through variable i from integer j to k - 1 by incrememnts of l for i in range (j, k , l)\n",
    "for i in range(j, k, l)\n",
    "\n",
    "execute script"
   ]
  },
  {
   "cell_type": "code",
   "execution_count": 20,
   "id": "8e8a19ad-b403-4af8-b55a-696d2835da87",
   "metadata": {},
   "outputs": [
    {
     "name": "stdout",
     "output_type": "stream",
     "text": [
      "1 1\n",
      "2 3\n",
      "3 6\n",
      "4 10\n",
      "5 15\n",
      "6 21\n",
      "7 28\n",
      "8 36\n",
      "9 45\n",
      "10 55\n",
      "11 66\n",
      "12 78\n",
      "13 91\n",
      "14 105\n",
      "15 120\n",
      "16 136\n",
      "17 153\n",
      "18 171\n",
      "19 190\n",
      "20 210\n",
      "21 231\n",
      "22 253\n",
      "23 276\n",
      "24 300\n",
      "25 325\n",
      "26 351\n",
      "27 378\n",
      "28 406\n",
      "29 435\n",
      "30 465\n",
      "31 496\n",
      "32 528\n",
      "33 561\n",
      "34 595\n",
      "35 630\n",
      "36 666\n",
      "37 703\n",
      "38 741\n",
      "39 780\n",
      "40 820\n",
      "41 861\n",
      "42 903\n",
      "43 946\n",
      "44 990\n",
      "45 1035\n",
      "46 1081\n",
      "47 1128\n",
      "48 1176\n",
      "49 1225\n",
      "50 1275\n",
      "51 1326\n",
      "52 1378\n",
      "53 1431\n",
      "54 1485\n",
      "55 1540\n",
      "56 1596\n",
      "57 1653\n",
      "58 1711\n",
      "59 1770\n",
      "60 1830\n",
      "61 1891\n",
      "62 1953\n",
      "63 2016\n",
      "64 2080\n",
      "65 2145\n",
      "66 2211\n",
      "67 2278\n",
      "68 2346\n",
      "69 2415\n",
      "70 2485\n",
      "71 2556\n",
      "72 2628\n",
      "73 2701\n",
      "74 2775\n",
      "75 2850\n",
      "76 2926\n",
      "77 3003\n",
      "78 3081\n",
      "79 3160\n",
      "80 3240\n",
      "81 3321\n",
      "82 3403\n",
      "83 3486\n",
      "84 3570\n",
      "85 3655\n",
      "86 3741\n",
      "87 3828\n",
      "88 3916\n",
      "89 4005\n",
      "90 4095\n",
      "91 4186\n",
      "92 4278\n",
      "93 4371\n",
      "94 4465\n",
      "95 4560\n",
      "96 4656\n",
      "97 4753\n",
      "98 4851\n",
      "99 4950\n",
      "100 5050\n"
     ]
    }
   ],
   "source": [
    "total = 0\n",
    "for i in range(1, 101):\n",
    "    total = total + i\n",
    "    print(i, total)"
   ]
  },
  {
   "cell_type": "code",
   "execution_count": 16,
   "id": "24475f4a-3743-4d86-91f1-1823ad4350f4",
   "metadata": {},
   "outputs": [
    {
     "name": "stdout",
     "output_type": "stream",
     "text": [
      "543\n",
      "342\n",
      "6\n",
      "435\n",
      "543\n",
      "j False\n",
      "h False\n",
      "t False\n",
      "i False\n",
      "4 False\n",
      "k True\n",
      "3 False\n",
      "h False\n",
      "2 False\n",
      "u False\n",
      "3 False\n",
      "i False\n"
     ]
    }
   ],
   "source": [
    "list1 = [543, 342, 6, 435, 543]\n",
    "str1 = \"jhti4k3h2u3i\"\n",
    "\n",
    "for val in list1:\n",
    "    print(val)\n",
    "    \n",
    "for string in str1:\n",
    "    print(string, string == \"k\")"
   ]
  },
  {
   "cell_type": "code",
   "execution_count": 19,
   "id": "6e7c0170-7c3a-4260-bec9-acf78e9f2738",
   "metadata": {},
   "outputs": [
    {
     "name": "stdout",
     "output_type": "stream",
     "text": [
      "1 1\n",
      "3 4\n",
      "5 9\n",
      "7 16\n",
      "9 25\n",
      "11 36\n",
      "13 49\n",
      "15 64\n",
      "17 81\n",
      "19 100\n",
      "21 121\n",
      "23 144\n",
      "25 169\n",
      "27 196\n",
      "29 225\n",
      "31 256\n",
      "33 289\n",
      "35 324\n",
      "37 361\n",
      "39 400\n",
      "41 441\n",
      "43 484\n",
      "45 529\n",
      "47 576\n",
      "49 625\n",
      "51 676\n",
      "53 729\n",
      "55 784\n",
      "57 841\n",
      "59 900\n",
      "61 961\n",
      "63 1024\n",
      "65 1089\n",
      "67 1156\n",
      "69 1225\n",
      "71 1296\n",
      "73 1369\n",
      "75 1444\n",
      "77 1521\n",
      "79 1600\n",
      "81 1681\n",
      "83 1764\n",
      "85 1849\n",
      "87 1936\n",
      "89 2025\n",
      "91 2116\n",
      "93 2209\n",
      "95 2304\n",
      "97 2401\n",
      "99 2500\n"
     ]
    }
   ],
   "source": [
    "total = 0\n",
    "for i in range(1, 101, 2):\n",
    "    total = total + i\n",
    "    print(i, total)"
   ]
  },
  {
   "cell_type": "code",
   "execution_count": 21,
   "id": "6cf5640b-9493-479d-bda0-118fbbd333b7",
   "metadata": {},
   "outputs": [
    {
     "data": {
      "text/plain": [
       "[1, 2, 3, 4]"
      ]
     },
     "execution_count": 21,
     "metadata": {},
     "output_type": "execute_result"
    }
   ],
   "source": [
    "list1 = [1,2]\n",
    "list2 = [3, 4]\n",
    "list1 + list2"
   ]
  },
  {
   "cell_type": "code",
   "execution_count": 24,
   "id": "c083786f-1b9a-418f-99c9-5b443874766d",
   "metadata": {},
   "outputs": [
    {
     "name": "stdout",
     "output_type": "stream",
     "text": [
      "0\n",
      "2\n",
      "4\n",
      "6\n",
      "8\n",
      "[0, 2, 4, 6, 8]\n"
     ]
    }
   ],
   "source": [
    "list1 =[]\n",
    "for i in range(0,9, 2):\n",
    "    print(i)\n",
    "    list1.append(i)\n",
    "    \n",
    "print(list1)"
   ]
  },
  {
   "cell_type": "code",
   "execution_count": 23,
   "id": "704ad450-f8b6-4197-8538-6099ef352cae",
   "metadata": {},
   "outputs": [
    {
     "data": {
      "text/plain": [
       "[0, 2, 4, 6, 8]"
      ]
     },
     "execution_count": 23,
     "metadata": {},
     "output_type": "execute_result"
    }
   ],
   "source": [
    "list2 = list(range(0, 9, 2))\n",
    "list2"
   ]
  },
  {
   "cell_type": "markdown",
   "id": "3bf00f0d-47dc-4fa0-b27c-f58818b0becf",
   "metadata": {},
   "source": [
    "###Using len() with range"
   ]
  },
  {
   "cell_type": "code",
   "execution_count": 26,
   "id": "2433f033-68a1-47ee-82c0-1cb6ded8ac8f",
   "metadata": {},
   "outputs": [
    {
     "name": "stdout",
     "output_type": "stream",
     "text": [
      "i val\n",
      "0 0\n",
      "1 2\n",
      "2 4\n",
      "3 6\n",
      "4 8\n"
     ]
    }
   ],
   "source": [
    "list2_len = len(list2)\n",
    "print(\"i\", \"val\")\n",
    "for i in range(list2_len):\n",
    "    print(i, list2[i])"
   ]
  },
  {
   "cell_type": "code",
   "execution_count": 31,
   "id": "f523e480-8695-4cf9-a190-8e3dc8e6b4e8",
   "metadata": {},
   "outputs": [
    {
     "name": "stdout",
     "output_type": "stream",
     "text": [
      "i list\n",
      "1 [0, 1, 2, 3, 4, 5, 6, 7, 8]\n",
      "length: 9\n",
      "j val\n",
      "0 0\n",
      "1 1\n",
      "2 2\n",
      "3 3\n",
      "4 4\n",
      "5 5\n",
      "6 6\n",
      "7 7\n",
      "8 8\n",
      "2 [0, 2, 4, 6, 8]\n",
      "length: 5\n",
      "j val\n",
      "0 0\n",
      "1 2\n",
      "2 4\n",
      "3 6\n",
      "4 8\n",
      "3 [0, 3, 6]\n",
      "length: 3\n",
      "j val\n",
      "0 0\n",
      "1 3\n",
      "2 6\n",
      "4 [0, 4, 8]\n",
      "length: 3\n",
      "j val\n",
      "0 0\n",
      "1 4\n",
      "2 8\n",
      "5 [0, 5]\n",
      "length: 2\n",
      "j val\n",
      "0 0\n",
      "1 5\n"
     ]
    }
   ],
   "source": [
    "print(\"i\", \"list\")\n",
    "for interval in range(1, 6):\n",
    "    list2 = list(range(0,9,interval))\n",
    "    print(interval, list2)\n",
    "    list2_len = len(list2)\n",
    "    print(\"length:\", list2_len)\n",
    "    print(\"j\", \"val\")\n",
    "    for j in range(list2_len):\n",
    "        print(j, list2[j])\n",
    "# for i in range(list2_len):\n",
    "    # print(i, list2[i])"
   ]
  },
  {
   "cell_type": "markdown",
   "id": "85c9e706-b58a-4c4e-b38f-97b46647ce3f",
   "metadata": {},
   "source": [
    "##if statements and boolean variables"
   ]
  },
  {
   "cell_type": "code",
   "execution_count": 33,
   "id": "209bac6b-4266-419e-9f4d-d48a90e8e8ee",
   "metadata": {},
   "outputs": [
    {
     "data": {
      "text/plain": [
       "True"
      ]
     },
     "execution_count": 33,
     "metadata": {},
     "output_type": "execute_result"
    }
   ],
   "source": [
    "# boolean\n",
    "True"
   ]
  },
  {
   "cell_type": "code",
   "execution_count": 34,
   "id": "c773709e-8014-4644-a3ce-ed62efd113f6",
   "metadata": {},
   "outputs": [
    {
     "data": {
      "text/plain": [
       "False"
      ]
     },
     "execution_count": 34,
     "metadata": {},
     "output_type": "execute_result"
    }
   ],
   "source": [
    "False"
   ]
  },
  {
   "cell_type": "code",
   "execution_count": 35,
   "id": "16bfafbc-c8be-48d7-a167-1469707de728",
   "metadata": {},
   "outputs": [
    {
     "data": {
      "text/plain": [
       "1"
      ]
     },
     "execution_count": 35,
     "metadata": {},
     "output_type": "execute_result"
    }
   ],
   "source": [
    "True * True"
   ]
  },
  {
   "cell_type": "code",
   "execution_count": 36,
   "id": "62389439-0a55-4e35-8cfb-b17f2059cc30",
   "metadata": {},
   "outputs": [
    {
     "data": {
      "text/plain": [
       "0"
      ]
     },
     "execution_count": 36,
     "metadata": {},
     "output_type": "execute_result"
    }
   ],
   "source": [
    "True * False"
   ]
  },
  {
   "cell_type": "code",
   "execution_count": 37,
   "id": "08bdc5a7-1715-4c43-81d5-2e3f5dac96db",
   "metadata": {},
   "outputs": [
    {
     "name": "stdout",
     "output_type": "stream",
     "text": [
      "True\n",
      "False\n"
     ]
    }
   ],
   "source": [
    "boolean = True\n",
    "if boolean:\n",
    "    print(boolean)\n",
    "    \n",
    "boolean2 = False\n",
    "if boolean2 == False:\n",
    "    print(boolean2)\n"
   ]
  },
  {
   "cell_type": "code",
   "execution_count": 38,
   "id": "a1c18133-2099-4674-b6bb-3c4647b4f8af",
   "metadata": {},
   "outputs": [
    {
     "data": {
      "text/plain": [
       "True"
      ]
     },
     "execution_count": 38,
     "metadata": {},
     "output_type": "execute_result"
    }
   ],
   "source": [
    "False == False"
   ]
  },
  {
   "cell_type": "code",
   "execution_count": 39,
   "id": "32b7fe6b-00f7-485f-838d-595b3dcbb75a",
   "metadata": {},
   "outputs": [
    {
     "data": {
      "text/plain": [
       "True"
      ]
     },
     "execution_count": 39,
     "metadata": {},
     "output_type": "execute_result"
    }
   ],
   "source": [
    "1 == True"
   ]
  },
  {
   "cell_type": "code",
   "execution_count": 40,
   "id": "f6e6e305-f175-4186-b334-db7911315196",
   "metadata": {},
   "outputs": [
    {
     "data": {
      "text/plain": [
       "False"
      ]
     },
     "execution_count": 40,
     "metadata": {},
     "output_type": "execute_result"
    }
   ],
   "source": [
    "1 != True"
   ]
  },
  {
   "cell_type": "code",
   "execution_count": 41,
   "id": "31520457-51f9-486e-bd76-3a1773825bca",
   "metadata": {},
   "outputs": [
    {
     "name": "stdout",
     "output_type": "stream",
     "text": [
      "0 The\n",
      "1 dog\n",
      "2 ate\n",
      "3 the\n",
      "4 snow\n"
     ]
    }
   ],
   "source": [
    "words = [\"The\", \"dog\", \"ate\", \"the\", \"snow\"]\n",
    "# does the word ate appeat in the list? If so, where?\n",
    "\n",
    "num_words = len(words)\n",
    "for i in range(num_words):\n",
    "    word = words[i]\n",
    "    is_ate = word == \"ate\"\n",
    "    print(i, words[i])"
   ]
  },
  {
   "cell_type": "code",
   "execution_count": 50,
   "id": "ff9b324e-9c0d-4139-b6e1-2cfdac0ad8e2",
   "metadata": {},
   "outputs": [
    {
     "name": "stdout",
     "output_type": "stream",
     "text": [
      "0 The\n",
      "Is the word The \"ate\"?: False\n",
      "1 dog\n",
      "Is the word dog \"ate\"?: False\n",
      "2 ate\n",
      "Is the word ate \"ate\"?: True\n",
      "3 the\n",
      "Is the word the \"ate\"?: False\n",
      "4 snow\n",
      "Is the word snow \"ate\"?: False\n",
      "5 and\n",
      "Is the word and \"ate\"?: False\n",
      "6 ate\n",
      "Is the word ate \"ate\"?: True\n",
      "7 his\n",
      "Is the word his \"ate\"?: False\n",
      "8 dog\n",
      "Is the word dog \"ate\"?: False\n",
      "9 food\n",
      "Is the word food \"ate\"?: False\n"
     ]
    },
    {
     "data": {
      "text/plain": [
       "[2, 6]"
      ]
     },
     "execution_count": 50,
     "metadata": {},
     "output_type": "execute_result"
    }
   ],
   "source": [
    "words = [\"The\", \"dog\", \"ate\", \"the\", \"snow\", \"and\", \"ate\", \"his\", \"dog\", \"food\"]\n",
    "# does the word ate appeat in the list? If so, where?\n",
    "\n",
    "ate_index_list = []\n",
    "num_words = len(words)\n",
    "for i in range(num_words):\n",
    "    word = words[i]\n",
    "    print(i, word)\n",
    "    is_ate = word == \"ate\"\n",
    "    print(\"Is the word\", word, \"\\\"ate\\\"?:\", is_ate)\n",
    "    if is_ate:\n",
    "        ate_index_list.append(i)\n",
    "ate_index_list"
   ]
  },
  {
   "cell_type": "code",
   "execution_count": 51,
   "id": "8979c7a4-c13c-4ee1-874c-78591df3dec1",
   "metadata": {},
   "outputs": [
    {
     "name": "stdout",
     "output_type": "stream",
     "text": [
      "1 is not greater than 10\n",
      "4 is not greater than 10\n",
      "3 is not greater than 10\n",
      "53 is greater than 10\n",
      "236 is greater than 10\n",
      "3 is not greater than 10\n",
      "34 is greater than 10\n",
      "4345345 is greater than 10\n"
     ]
    }
   ],
   "source": [
    "random_numbers = [1, 4, 3, 53, 236, 3, 34, 4345345]\n",
    "\n",
    "not_greater_than_10 = []\n",
    "greater_than_10 = []\n",
    "\n",
    "for number in random_numbers:\n",
    "    if number > 10:\n",
    "        print(number, \"is greater than 10\")\n",
    "        greater_than_10.append(number)\n",
    "    else:\n",
    "        print(number, \"is not greater than 10\")\n",
    "        not_greater_than_10.append(number)"
   ]
  },
  {
   "cell_type": "code",
   "execution_count": 52,
   "id": "94824e0c-88ae-4900-abfb-bb361935b7e6",
   "metadata": {},
   "outputs": [
    {
     "data": {
      "text/plain": [
       "[1, 4, 3, 3]"
      ]
     },
     "execution_count": 52,
     "metadata": {},
     "output_type": "execute_result"
    }
   ],
   "source": [
    "not_greater_than_10"
   ]
  },
  {
   "cell_type": "code",
   "execution_count": 53,
   "id": "700deb69-b973-4b79-b4bd-5b434fc86c9a",
   "metadata": {},
   "outputs": [
    {
     "data": {
      "text/plain": [
       "[53, 236, 34, 4345345]"
      ]
     },
     "execution_count": 53,
     "metadata": {},
     "output_type": "execute_result"
    }
   ],
   "source": [
    "greater_than_10"
   ]
  },
  {
   "cell_type": "code",
   "execution_count": 57,
   "id": "346876ee-5fd3-40b1-9d2c-27e2672c5d1f",
   "metadata": {},
   "outputs": [
    {
     "name": "stdout",
     "output_type": "stream",
     "text": [
      "1 is the domain of zero and ten\n",
      "4 is the domain of zero and ten\n",
      "3 is the domain of zero and ten\n",
      "53 is greater than 10\n",
      "236 is greater than 10\n",
      "3 is the domain of zero and ten\n",
      "34 is greater than 10\n",
      "4345345 is greater than 10\n",
      "-1 is negative\n",
      "-45 is negative\n"
     ]
    }
   ],
   "source": [
    "random_numbers = [1, 4, 3, 53, 236, 3, 34, 4345345, -1, -45]\n",
    "\n",
    "greater_than_10 = []\n",
    "zero_to_10 = []\n",
    "negative_numbers = []\n",
    "\n",
    "for number in random_numbers:\n",
    "    if number > 10:\n",
    "        print(number, \"is greater than 10\")\n",
    "        greater_than_10.append(number)\n",
    "    elif number >= 0 :\n",
    "        print(number, \"is the domain of zero and ten\")\n",
    "        zero_to_10.append(number)\n",
    "    else:\n",
    "        print(number, \"is negative\")\n",
    "        negative_numbers.append(number)"
   ]
  },
  {
   "cell_type": "code",
   "execution_count": 58,
   "id": "e6e5d669-b95e-4363-a324-933958cea320",
   "metadata": {},
   "outputs": [
    {
     "data": {
      "text/plain": [
       "([53, 236, 34, 4345345], [1, 4, 3, 3], [-1, -45])"
      ]
     },
     "execution_count": 58,
     "metadata": {},
     "output_type": "execute_result"
    }
   ],
   "source": [
    "greater_than_10, zero_to_10, negative_numbers"
   ]
  },
  {
   "cell_type": "code",
   "execution_count": 59,
   "id": "46663dbb-03a6-430c-9343-2ce090f601d5",
   "metadata": {},
   "outputs": [
    {
     "data": {
      "text/plain": [
       "([53, 34, 4345345], [1, 3, 3], [-1])"
      ]
     },
     "execution_count": 59,
     "metadata": {},
     "output_type": "execute_result"
    }
   ],
   "source": [
    "del greater_than_10[1]\n",
    "del zero_to_10[1]\n",
    "del negative_numbers[1]\n",
    "greater_than_10, zero_to_10, negative_numbers"
   ]
  },
  {
   "cell_type": "code",
   "execution_count": 60,
   "id": "ac3b5e50-a423-484c-9318-1226cd6fc72f",
   "metadata": {},
   "outputs": [
    {
     "data": {
      "text/plain": [
       "([53, 34], [1, 3], [])"
      ]
     },
     "execution_count": 60,
     "metadata": {},
     "output_type": "execute_result"
    }
   ],
   "source": [
    "del greater_than_10[-1]\n",
    "del zero_to_10[-1]\n",
    "del negative_numbers[-1]\n",
    "greater_than_10, zero_to_10, negative_numbers"
   ]
  },
  {
   "cell_type": "code",
   "execution_count": 64,
   "id": "6944f9b2-09b8-4126-9306-717df2f8f894",
   "metadata": {},
   "outputs": [
    {
     "ename": "ValueError",
     "evalue": "list.remove(x): x not in list",
     "output_type": "error",
     "traceback": [
      "\u001b[0;31m---------------------------------------------------------------------------\u001b[0m",
      "\u001b[0;31mValueError\u001b[0m                                Traceback (most recent call last)",
      "\u001b[0;32m/var/folders/36/1ps_njqs0_vg85qkr7w_tj440000gn/T/ipykernel_25660/1406965507.py\u001b[0m in \u001b[0;36m<module>\u001b[0;34m\u001b[0m\n\u001b[0;32m----> 1\u001b[0;31m \u001b[0mgreater_than_10\u001b[0m\u001b[0;34m.\u001b[0m\u001b[0mremove\u001b[0m\u001b[0;34m(\u001b[0m\u001b[0;36m1\u001b[0m\u001b[0;34m)\u001b[0m\u001b[0;34m\u001b[0m\u001b[0;34m\u001b[0m\u001b[0m\n\u001b[0m\u001b[1;32m      2\u001b[0m \u001b[0mzero_to_10\u001b[0m\u001b[0;34m.\u001b[0m\u001b[0mremove\u001b[0m\u001b[0;34m(\u001b[0m\u001b[0;36m1\u001b[0m\u001b[0;34m)\u001b[0m\u001b[0;34m\u001b[0m\u001b[0;34m\u001b[0m\u001b[0m\n\u001b[1;32m      3\u001b[0m \u001b[0mgreater_than_10\u001b[0m\u001b[0;34m,\u001b[0m \u001b[0mzero_to_10\u001b[0m\u001b[0;34m\u001b[0m\u001b[0;34m\u001b[0m\u001b[0m\n",
      "\u001b[0;31mValueError\u001b[0m: list.remove(x): x not in list"
     ]
    }
   ],
   "source": [
    "greater_than_10.remove(1)\n",
    "zero_to_10.remove(1)\n",
    "greater_than_10, zero_to_10"
   ]
  },
  {
   "cell_type": "code",
   "execution_count": 65,
   "id": "5c00e95e-3b21-4d5d-9893-564876d1708d",
   "metadata": {},
   "outputs": [
    {
     "data": {
      "text/plain": [
       "([53], 34)"
      ]
     },
     "execution_count": 65,
     "metadata": {},
     "output_type": "execute_result"
    }
   ],
   "source": [
    "last_val_in_lst = greater_than_10.pop()\n",
    "greater_than_10, last_val_in_lst"
   ]
  },
  {
   "cell_type": "code",
   "execution_count": 67,
   "id": "426b2b9a-3605-4f78-8dc9-c178f3ef1a47",
   "metadata": {},
   "outputs": [
    {
     "data": {
      "text/plain": [
       "([1, 4, 2, 5, 543, 22], [1, 2, 4, 5, 22, 543], [1, 4, 2, 5, 543, 22])"
      ]
     },
     "execution_count": 67,
     "metadata": {},
     "output_type": "execute_result"
    }
   ],
   "source": [
    "num_list = [1, 4, 2, 5, 543, 22]\n",
    "\n",
    "num_list, sorted(num_list), num_list"
   ]
  },
  {
   "cell_type": "code",
   "execution_count": 68,
   "id": "d5eefb50-f656-4a48-8ea0-53a07fca2461",
   "metadata": {},
   "outputs": [
    {
     "data": {
      "text/plain": [
       "(['A', 'list', 'of', 'strings', 'is', 'in', 'string_list'],\n",
       " ['A', 'in', 'is', 'list', 'of', 'string_list', 'strings'])"
      ]
     },
     "execution_count": 68,
     "metadata": {},
     "output_type": "execute_result"
    }
   ],
   "source": [
    "string_list = [\"A\", \"list\", \"of\", \"strings\", \"is\", \"in\", \"string_list\"]\n",
    "string_list, sorted(string_list)"
   ]
  },
  {
   "cell_type": "code",
   "execution_count": 69,
   "id": "f20d4df6-fdb8-4bea-8872-a1c824fe75dc",
   "metadata": {},
   "outputs": [
    {
     "data": {
      "text/plain": [
       "[1, 2, 4, 5, 22, 543]"
      ]
     },
     "execution_count": 69,
     "metadata": {},
     "output_type": "execute_result"
    }
   ],
   "source": [
    "num_list.sort()\n",
    "num_list"
   ]
  },
  {
   "cell_type": "code",
   "execution_count": 70,
   "id": "15b88265-38c4-4b27-be73-a33c2d8394df",
   "metadata": {},
   "outputs": [
    {
     "data": {
      "text/plain": [
       "([1, 2, 3, 4, 5, 6, 6, 7], [3, 4, 5])"
      ]
     },
     "execution_count": 70,
     "metadata": {},
     "output_type": "execute_result"
    }
   ],
   "source": [
    "lst = [1,2,3,4,5,6,6,7]\n",
    "lst, lst[2:5]"
   ]
  },
  {
   "cell_type": "code",
   "execution_count": 71,
   "id": "49173957-1ccd-48d8-9720-a8662e6df843",
   "metadata": {},
   "outputs": [
    {
     "data": {
      "text/plain": [
       "([1, 2, 3, 4, 5, 6, 6, 7], [1, 3, 5, 6])"
      ]
     },
     "execution_count": 71,
     "metadata": {},
     "output_type": "execute_result"
    }
   ],
   "source": [
    "lst, lst[0:-1:2]"
   ]
  },
  {
   "cell_type": "code",
   "execution_count": 72,
   "id": "9d224188-a1cb-47a1-9acc-c54167781e56",
   "metadata": {},
   "outputs": [
    {
     "data": {
      "text/plain": [
       "([1, 2, 3, 4, 5, 6, 6, 7], [1, 3, 5, 6])"
      ]
     },
     "execution_count": 72,
     "metadata": {},
     "output_type": "execute_result"
    }
   ],
   "source": [
    "lst, lst[::2]"
   ]
  },
  {
   "cell_type": "code",
   "execution_count": 73,
   "id": "d1b05988-7e2a-42a1-9b37-853c7a551305",
   "metadata": {},
   "outputs": [
    {
     "data": {
      "text/plain": [
       "<generator object <genexpr> at 0x7ffc131a1120>"
      ]
     },
     "execution_count": 73,
     "metadata": {},
     "output_type": "execute_result"
    }
   ],
   "source": [
    "generator = (i for i in range(20))\n",
    "generator"
   ]
  },
  {
   "cell_type": "code",
   "execution_count": 74,
   "id": "d59a8af2-15f4-4206-b35f-e9a280f03f13",
   "metadata": {},
   "outputs": [
    {
     "data": {
      "text/plain": [
       "[0, 1, 2, 3, 4, 5, 6, 7, 8, 9, 10, 11, 12, 13, 14, 15, 16, 17, 18, 19]"
      ]
     },
     "execution_count": 74,
     "metadata": {},
     "output_type": "execute_result"
    }
   ],
   "source": [
    "list1 = list(generator)\n",
    "list1"
   ]
  },
  {
   "cell_type": "code",
   "execution_count": 75,
   "id": "947bda54-aede-4b95-9bcc-1054474b15d2",
   "metadata": {},
   "outputs": [
    {
     "data": {
      "text/plain": [
       "[0, 2, 4, 6, 8, 10, 12, 14, 16, 18, 20, 22, 24, 26, 28, 30, 32, 34, 36, 38]"
      ]
     },
     "execution_count": 75,
     "metadata": {},
     "output_type": "execute_result"
    }
   ],
   "source": [
    "list2 = [2 * i for i in range(20)]\n",
    "list2"
   ]
  },
  {
   "cell_type": "code",
   "execution_count": null,
   "id": "990483fa-bfe6-4a97-840a-b470f5ed8f90",
   "metadata": {},
   "outputs": [],
   "source": []
  }
 ],
 "metadata": {
  "kernelspec": {
   "display_name": "Python 3 (ipykernel)",
   "language": "python",
   "name": "python3"
  },
  "language_info": {
   "codemirror_mode": {
    "name": "ipython",
    "version": 3
   },
   "file_extension": ".py",
   "mimetype": "text/x-python",
   "name": "python",
   "nbconvert_exporter": "python",
   "pygments_lexer": "ipython3",
   "version": "3.9.13"
  }
 },
 "nbformat": 4,
 "nbformat_minor": 5
}
